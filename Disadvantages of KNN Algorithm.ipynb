{
 "cells": [
  {
   "cell_type": "markdown",
   "id": "13843caa",
   "metadata": {},
   "source": [
    "# Disadvantages of KNN Algorithm"
   ]
  },
  {
   "cell_type": "markdown",
   "id": "f998fbdb",
   "metadata": {},
   "source": [
    "The algorithm gets significantly slower as the number of examples and/or predictors/independent variables increase."
   ]
  },
  {
   "cell_type": "code",
   "execution_count": 7,
   "id": "d39a0fd9",
   "metadata": {},
   "outputs": [
    {
     "name": "stdout",
     "output_type": "stream",
     "text": [
      "89.28571428571429 %\n",
      "The time of execution of above program is : 0.014963150024414062\n"
     ]
    }
   ],
   "source": [
    "import pandas as pd\n",
    "from sklearn.preprocessing import LabelEncoder\n",
    "from sklearn.neighbors import KNeighborsClassifier\n",
    "from sklearn.model_selection import train_test_split\n",
    "from sklearn import preprocessing\n",
    "import time\n",
    "\n",
    "\n",
    "df = pd.read_csv(r\"C:\\Users\\user\\Desktop\\DATA SCIENCE\\SpaceMissions (1).csv\")\n",
    "\n",
    "df['Mission Status New'] = LabelEncoder().fit_transform(df['Mission Status'])\n",
    "\n",
    "data = df.drop(['Company', 'Launch Date', 'Launch Time', 'Launch Site','Vehicle Type','Payload Name','Payload Type','Payload Orbit','Failure Reason','Payload Mass (kg)','Mission Status'], axis = 1)\n",
    "\n",
    "data = data.dropna()\n",
    "\n",
    "start = time.time()\n",
    "\n",
    "X_train, X_test, y_train, y_test = train_test_split(data.drop(['Mission Status New'],axis=1), \n",
    "                                                    data['Mission Status New'], test_size=0.20, \n",
    "                                                    random_state=10)\n",
    "knnmodel = KNeighborsClassifier()\n",
    "knnmodel.fit(X_train,y_train)\n",
    "\n",
    "knnmodel_predictions = knnmodel.predict(X_test)\n",
    "\n",
    "end = time.time()\n",
    "\n",
    "accuracy_knnmodel = knnmodel.score(X_test,y_test)\n",
    "print(accuracy_knnmodel*100,'%')\n",
    "\n",
    "print(\"The time of execution of above program is :\", end-start)"
   ]
  },
  {
   "cell_type": "code",
   "execution_count": 10,
   "id": "1f0be9df",
   "metadata": {},
   "outputs": [
    {
     "name": "stdout",
     "output_type": "stream",
     "text": [
      "100.0 %\n",
      "The time of execution of above program is : 3.635221242904663\n"
     ]
    }
   ],
   "source": [
    "import pandas as pd\n",
    "from sklearn.preprocessing import LabelEncoder\n",
    "from sklearn.neighbors import KNeighborsClassifier\n",
    "from sklearn.model_selection import train_test_split\n",
    "from sklearn import preprocessing\n",
    "import time\n",
    "\n",
    "data1 = pd.read_csv(r\"C:\\Users\\user\\Desktop\\DATA SCIENCE\\BA.csv\")\n",
    "\n",
    "start = time.time()\n",
    "\n",
    "X_train, X_test, y_train, y_test = train_test_split(data1.drop(['Surname','CustomerId','RowNumber','Exited','Geography','Gender'],axis=1), \n",
    "                                                    data1['Exited'], test_size=0.20, \n",
    "                                                    random_state=20)\n",
    "knnmodel = KNeighborsClassifier()\n",
    "knnmodel.fit(X_train,y_train)\n",
    "\n",
    "knnmodel_predictions = knnmodel.predict(X_test)\n",
    "\n",
    "end = time.time()\n",
    "\n",
    "accuracy_knnmodel = knnmodel.score(X_test,y_test)\n",
    "print(accuracy_knnmodel*100,'%')\n",
    "\n",
    "print(\"The time of execution of above program is :\", end-start)"
   ]
  },
  {
   "cell_type": "code",
   "execution_count": 8,
   "id": "43d216a7",
   "metadata": {},
   "outputs": [
    {
     "data": {
      "text/plain": [
       "(150, 19)"
      ]
     },
     "execution_count": 8,
     "metadata": {},
     "output_type": "execute_result"
    }
   ],
   "source": [
    "df.shape"
   ]
  },
  {
   "cell_type": "markdown",
   "id": "e549c73b",
   "metadata": {},
   "source": [
    "The time of execution of above program is : 0.014963150024414062"
   ]
  },
  {
   "cell_type": "code",
   "execution_count": 11,
   "id": "192298f6",
   "metadata": {},
   "outputs": [
    {
     "data": {
      "text/plain": [
       "(120000, 14)"
      ]
     },
     "execution_count": 11,
     "metadata": {},
     "output_type": "execute_result"
    }
   ],
   "source": [
    "data1.shape"
   ]
  },
  {
   "cell_type": "markdown",
   "id": "d72a6ff5",
   "metadata": {},
   "source": [
    "The time of execution of above program is : 3.635221242904663"
   ]
  },
  {
   "cell_type": "code",
   "execution_count": null,
   "id": "bf34b5db",
   "metadata": {},
   "outputs": [],
   "source": []
  }
 ],
 "metadata": {
  "kernelspec": {
   "display_name": "Python 3 (ipykernel)",
   "language": "python",
   "name": "python3"
  },
  "language_info": {
   "codemirror_mode": {
    "name": "ipython",
    "version": 3
   },
   "file_extension": ".py",
   "mimetype": "text/x-python",
   "name": "python",
   "nbconvert_exporter": "python",
   "pygments_lexer": "ipython3",
   "version": "3.9.7"
  }
 },
 "nbformat": 4,
 "nbformat_minor": 5
}
